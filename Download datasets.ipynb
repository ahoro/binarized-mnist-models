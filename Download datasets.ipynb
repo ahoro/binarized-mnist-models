{
 "cells": [
  {
   "cell_type": "markdown",
   "id": "802482a8-7389-448a-ac25-0d2644272a2d",
   "metadata": {},
   "source": [
    "Run this first to download and convert datasets."
   ]
  },
  {
   "cell_type": "code",
   "execution_count": 3,
   "id": "0eead47c-0991-42ae-9d29-a45731a8b747",
   "metadata": {},
   "outputs": [],
   "source": [
    "from urllib.request import urlretrieve\n",
    "import numpy as np\n",
    "\n",
    "urlretrieve('http://www.cs.toronto.edu/~larocheh/public/datasets/binarized_mnist/binarized_mnist_train.amat', 'train.amat')\n",
    "urlretrieve('http://www.cs.toronto.edu/~larocheh/public/datasets/binarized_mnist/binarized_mnist_valid.amat', 'valid.amat')\n",
    "urlretrieve('http://www.cs.toronto.edu/~larocheh/public/datasets/binarized_mnist/binarized_mnist_test.amat', 'test.amat')\n",
    "\n",
    "np.save('train.npy', np.loadtxt('train.amat'))\n",
    "np.save('valid.npy', np.loadtxt('valid.amat'))\n",
    "np.save('test.npy', np.loadtxt('test.amat'))"
   ]
  },
  {
   "cell_type": "code",
   "execution_count": null,
   "id": "8f2c57aa-0b5c-4562-9ec7-359fa116c9cc",
   "metadata": {},
   "outputs": [],
   "source": []
  }
 ],
 "metadata": {
  "kernelspec": {
   "display_name": "Python 3 (ipykernel)",
   "language": "python",
   "name": "python3"
  },
  "language_info": {
   "codemirror_mode": {
    "name": "ipython",
    "version": 3
   },
   "file_extension": ".py",
   "mimetype": "text/x-python",
   "name": "python",
   "nbconvert_exporter": "python",
   "pygments_lexer": "ipython3",
   "version": "3.10.11"
  }
 },
 "nbformat": 4,
 "nbformat_minor": 5
}
