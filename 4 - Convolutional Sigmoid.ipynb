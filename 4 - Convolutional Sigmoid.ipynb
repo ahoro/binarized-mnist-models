{
 "cells": [
  {
   "cell_type": "markdown",
   "metadata": {},
   "source": [
    "A single layer convolutional neural network with a sigmoid output, implemented with pytorch. Similar to the FVSBN, a mask is used to maintain the autoregressive property."
   ]
  },
  {
   "cell_type": "code",
   "execution_count": 1,
   "metadata": {},
   "outputs": [
    {
     "name": "stdout",
     "output_type": "stream",
     "text": [
      "pytorch is running on cuda\n"
     ]
    }
   ],
   "source": [
    "import numpy as np\n",
    "import torch as tch\n",
    "import math as m\n",
    "import matplotlib.pyplot as plt\n",
    "\n",
    "device = \"cuda\" if tch.cuda.is_available() else \"cpu\"\n",
    "print(\"pytorch is running on \" + device)\n",
    "\n",
    "tr = np.load(\"train.npy\")\n",
    "va = np.load(\"valid.npy\")\n",
    "te = np.load(\"test.npy\")"
   ]
  },
  {
   "cell_type": "code",
   "execution_count": 2,
   "metadata": {},
   "outputs": [],
   "source": [
    "# Single convolutional layer with sigmoid outputs.\n",
    "# This is a modification of my belief net code. Some duplication could have been avoided using a superclass.\n",
    "class ConvSigModel(tch.nn.Module):\n",
    "    def __init__(self, kernel_size):\n",
    "        super().__init__()\n",
    "        if kernel_size % 2 != 1:\n",
    "            raise RuntimeError(\"Kernel size must be odd.\")\n",
    "        self.conv = tch.nn.Conv2d(in_channels=1, out_channels=1, kernel_size=kernel_size, padding='same')\n",
    "        self.stack = tch.nn.Sequential(self.conv, tch.nn.Sigmoid())\n",
    "        half = kernel_size // 2\n",
    "        # Mask out all entries that will be after the current one as the kernel is scanned across the input\n",
    "        self.mask = tch.concat((tch.ones((half, kernel_size)),\n",
    "                                tch.hstack((tch.ones((1, half)), tch.zeros((1, 1 + half)))),\n",
    "                                tch.zeros((half, kernel_size))))\n",
    "        self.mask = self.mask.reshape((1, 1, kernel_size, kernel_size))\n",
    "        self.flatten = tch.nn.Flatten()\n",
    "\n",
    "    def forward(self, x):\n",
    "        return self.stack(x + 1.) # zero is value outside the image\n",
    "\n",
    "    # for projected SGD\n",
    "    def apply_projection(self):\n",
    "        self.conv.weight.data *= self.mask\n",
    "\n",
    "    # override that moves mask array along with everything else\n",
    "    def to(self, device):\n",
    "        self.mask = self.mask.to(device)\n",
    "        return super().to(device)\n",
    "\n",
    "# Train model, using validation set for early stopping\n",
    "def train(model : ConvSigModel, device, dl : tch.utils.data.DataLoader, validation_set = None, max_epochs = 100):\n",
    "    optimizer = tch.optim.Adam(model.parameters())\n",
    "    model.train() # put in training mode\n",
    "    prev_loss = tch.inf\n",
    "    for e in range(max_epochs):\n",
    "        for batch_num, batch in enumerate(dl):\n",
    "            x = batch[0].to(device) \n",
    "            optimizer.zero_grad()\n",
    "            lo = log_likelihood(model, x)\n",
    "            lo.backward()\n",
    "            optimizer.step()\n",
    "            model.apply_projection()\n",
    "        if validation_set is not None:    \n",
    "            va_loss = log_likelihood(model, validation_set)\n",
    "            if m.isclose(prev_loss, va_loss, rel_tol=0.0001):\n",
    "                print(\"Exiting early at epoch \" + str(e))\n",
    "                break\n",
    "            prev_loss = va_loss\n",
    "    return model\n",
    "\n",
    "# Generate a sample from the model.\n",
    "# Note that the output does not have to be the same size as the training data.\n",
    "def sample(model : ConvSigModel, samp_size):\n",
    "    model.eval() # put in eval mode\n",
    "    device = model.conv.weight.device\n",
    "    rands = tch.rand((samp_size, samp_size), device=device)\n",
    "    kernel_width = model.conv.kernel_size[0]\n",
    "    half = kernel_width // 2\n",
    "    output = tch.zeros((1, 1, samp_size, samp_size), device=device)\n",
    "    for i in range(samp_size):\n",
    "        for j in range(samp_size):\n",
    "            prob = model(output)[0, 0, i, j]\n",
    "            output[0, 0, i, j] = 0. if rands[i, j] > prob else 1.\n",
    "    return output\n",
    "\n",
    "def log_likelihood(model : ConvSigModel, data):\n",
    "    y = model(data)\n",
    "    return -tch.sum(tch.log(tch.where(data != 0, y, 1 - y))) / len(data)"
   ]
  },
  {
   "cell_type": "code",
   "execution_count": 3,
   "metadata": {},
   "outputs": [],
   "source": [
    "ttr = tch.from_numpy(np.asarray(tr, dtype=np.float32))\n",
    "ds = tch.utils.data.TensorDataset(ttr)\n",
    "dl = tch.utils.data.DataLoader(ds, batch_size=1000, shuffle=True)\n",
    "tva = tch.from_numpy(np.asarray(va, dtype=np.float32))\n",
    "tva = tva.to(device)\n",
    "\n",
    "kernel_width = 11\n",
    "half = kernel_width // 2\n",
    "sq_tr = np.reshape(np.asarray(tr, dtype=np.float32), (len(tr), 1, 28, 28))\n",
    "special = np.max(sq_tr) + 1 # special value not appearing elsewhere in data\n",
    "sq_ttr = tch.from_numpy(sq_tr)\n",
    "sq_ds = tch.utils.data.TensorDataset(sq_ttr)\n",
    "sq_dl = tch.utils.data.DataLoader(sq_ds, batch_size=1000, shuffle=True)\n",
    "sq_va = np.reshape(np.asarray(va, dtype=np.float32), (len(va), 1, 28, 28))\n",
    "t_sq_va = tch.from_numpy(sq_va).to(device)\n",
    "sq_te = np.reshape(np.asarray(te, dtype=np.float32), (len(te), 1, 28, 28))\n",
    "t_sq_te = tch.from_numpy(sq_te).to(device)"
   ]
  },
  {
   "cell_type": "code",
   "execution_count": 4,
   "metadata": {},
   "outputs": [
    {
     "data": {
      "text/plain": [
       "<matplotlib.image.AxesImage at 0x7f6ed09f2440>"
      ]
     },
     "execution_count": 4,
     "metadata": {},
     "output_type": "execute_result"
    },
    {
     "data": {
      "image/png": "[encoded data removed]",
      "text/plain": [
       "<Figure size 288x288 with 1 Axes>"
      ]
     },
     "metadata": {
      "needs_background": "light"
     },
     "output_type": "display_data"
    }
   ],
   "source": [
    "conv_sig_model = ConvSigModel(kernel_size=kernel_width).to(device)\n",
    "conv_sig_model = train(conv_sig_model, device, sq_dl, t_sq_va)\n",
    "plt.matshow(tch.squeeze(conv_sig_model.conv.weight.detach().cpu(), dim=(0,1)))"
   ]
  },
  {
   "cell_type": "markdown",
   "metadata": {},
   "source": [
    "Test set log likelihood."
   ]
  },
  {
   "cell_type": "code",
   "execution_count": 5,
   "metadata": {},
   "outputs": [
    {
     "data": {
      "text/plain": [
       "tensor(182.3012, device='cuda:0', grad_fn=<DivBackward0>)"
      ]
     },
     "execution_count": 5,
     "metadata": {},
     "output_type": "execute_result"
    }
   ],
   "source": [
    "tte = tch.from_numpy(np.asarray(te, dtype=np.float32)).to(device)\n",
    "log_likelihood(conv_sig_model, t_sq_te)"
   ]
  },
  {
   "cell_type": "code",
   "execution_count": 6,
   "metadata": {},
   "outputs": [
    {
     "data": {
      "image/png": "[encoded data removed]",
      "text/plain": [
       "<Figure size 432x288 with 16 Axes>"
      ]
     },
     "metadata": {
      "needs_background": "light"
     },
     "output_type": "display_data"
    }
   ],
   "source": [
    "fig, axs = plt.subplots(4, 4)\n",
    "for i in range(16):\n",
    "    axs[i // 4, i % 4].matshow(np.reshape(sample(conv_sig_model, 28).cpu(), (28, 28)))"
   ]
  }
 ],
 "metadata": {
  "kernelspec": {
   "display_name": "Python 3 (ipykernel)",
   "language": "python",
   "name": "python3"
  },
  "language_info": {
   "codemirror_mode": {
    "name": "ipython",
    "version": 3
   },
   "file_extension": ".py",
   "mimetype": "text/x-python",
   "name": "python",
   "nbconvert_exporter": "python",
   "pygments_lexer": "ipython3",
   "version": "3.10.12"
  }
 },
 "nbformat": 4,
 "nbformat_minor": 2
}
